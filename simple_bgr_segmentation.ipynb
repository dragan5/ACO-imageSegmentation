{
 "cells": [
  {
   "cell_type": "code",
   "execution_count": 59,
   "id": "d866f275-a38b-4ebc-af93-408e4676d7f3",
   "metadata": {},
   "outputs": [],
   "source": [
    "import cv2\n",
    "import numpy as np\n",
    "\n",
    "def simple_bgr_water_segmentation(image):\n",
    "\n",
    "    B = image[:,:,0].astype(np.float32)\n",
    "    G = image[:,:,1].astype(np.float32)\n",
    "    R = image[:,:,2].astype(np.float32)\n",
    "\n",
    "    \n",
    "    condition = (R > 80) & (G > 80) & (R >= G) & (R > B) & (G > B) & (B>40)\n",
    "\n",
    "\n",
    "    mask = np.zeros_like(R, dtype=np.uint8)\n",
    "    mask[condition] = 255\n",
    "\n",
    "    #Optional cleanup\n",
    "    kernel = np.ones((5,5), np.uint8)\n",
    "    mask = cv2.morphologyEx(mask, cv2.MORPH_CLOSE, kernel)\n",
    "    mask = cv2.morphologyEx(mask, cv2.MORPH_OPEN, kernel)\n",
    "\n",
    "\n",
    "    return mask\n"
   ]
  },
  {
   "cell_type": "code",
   "execution_count": 60,
   "id": "c2e083ad-5606-4ba3-8cd8-e31000a325ba",
   "metadata": {},
   "outputs": [
    {
     "name": "stdout",
     "output_type": "stream",
     "text": [
      "done\n"
     ]
    }
   ],
   "source": [
    "for i in range(10):\n",
    "    path = f'dataset/images/{i}.jpg'\n",
    "    image = cv2.imread(path)\n",
    "    result = simple_bgr_water_segmentation(image)\n",
    "    cv2.imwrite(f'simple_bgr_results/{i}.png',result)\n",
    "print('finished')"
   ]
  }
 ],
 "metadata": {
  "kernelspec": {
   "display_name": "Python 3 (ipykernel)",
   "language": "python",
   "name": "python3"
  },
  "language_info": {
   "codemirror_mode": {
    "name": "ipython",
    "version": 3
   },
   "file_extension": ".py",
   "mimetype": "text/x-python",
   "name": "python",
   "nbconvert_exporter": "python",
   "pygments_lexer": "ipython3",
   "version": "3.12.0"
  }
 },
 "nbformat": 4,
 "nbformat_minor": 5
}
